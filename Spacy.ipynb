{
 "cells": [
  {
   "cell_type": "code",
   "execution_count": 1,
   "metadata": {
    "collapsed": true
   },
   "outputs": [],
   "source": [
    "import spacy"
   ]
  },
  {
   "cell_type": "code",
   "execution_count": 4,
   "metadata": {},
   "outputs": [
    {
     "name": "stdout",
     "output_type": "stream",
     "text": [
      "Loaded model 'en_core_web_sm'\n",
      "Processing 2 texts\n",
      "Net income\tMONEY\t$9.4 million\n",
      "the prior year\tMONEY\t$2.7 million\n",
      "Revenue   \tMONEY\ttwelve billion dollars\n",
      "a loss    \tMONEY\t1b\n"
     ]
    }
   ],
   "source": [
    "def extract_currency_relations(doc):\n",
    "    # merge entities and noun chunks into one token\n",
    "    spans = list(doc.ents) + list(doc.noun_chunks)\n",
    "    for span in spans:\n",
    "        span.merge()\n",
    "\n",
    "    relations = []\n",
    "    for money in filter(lambda w: w.ent_type_ == 'MONEY', doc):\n",
    "        if money.dep_ in ('attr', 'dobj'):\n",
    "            subject = [w for w in money.head.lefts if w.dep_ == 'nsubj']\n",
    "            if subject:\n",
    "                subject = subject[0]\n",
    "                relations.append((subject, money))\n",
    "        elif money.dep_ == 'pobj' and money.head.dep_ == 'prep':\n",
    "            relations.append((money.head.head, money))\n",
    "    return relations\n",
    "\n",
    "TEXTS = [\n",
    "    'Net income was $9.4 million compared to the prior year of $2.7 million.',\n",
    "    'Revenue exceeded twelve billion dollars, with a loss of $1b.',\n",
    "]\n",
    "\n",
    "model = 'en_core_web_sm'\n",
    "\n",
    "nlp = spacy.load(model)\n",
    "print(\"Loaded model '%s'\" % model)\n",
    "print(\"Processing %d texts\" % len(TEXTS))\n",
    "\n",
    "for text in TEXTS:\n",
    "    doc = nlp(text)\n",
    "    relations = extract_currency_relations(doc)\n",
    "    for r1, r2 in relations:\n",
    "        print('{:<10}\\t{}\\t{}'.format(r1.text, r2.ent_type_, r2.text))"
   ]
  }
 ],
 "metadata": {
  "kernelspec": {
   "display_name": "Python [conda root]",
   "language": "python",
   "name": "conda-root-py"
  },
  "language_info": {
   "codemirror_mode": {
    "name": "ipython",
    "version": 3
   },
   "file_extension": ".py",
   "mimetype": "text/x-python",
   "name": "python",
   "nbconvert_exporter": "python",
   "pygments_lexer": "ipython3",
   "version": "3.5.3"
  }
 },
 "nbformat": 4,
 "nbformat_minor": 2
}
