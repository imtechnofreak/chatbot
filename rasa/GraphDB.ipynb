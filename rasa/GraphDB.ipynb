{
 "cells": [
  {
   "cell_type": "code",
   "execution_count": 1,
   "metadata": {
    "collapsed": true
   },
   "outputs": [],
   "source": [
    "from py2neo import Graph, Node, Relationship, NodeSelector\n",
    "from datetime import datetime\n",
    "import os"
   ]
  },
  {
   "cell_type": "code",
   "execution_count": 2,
   "metadata": {
    "collapsed": true
   },
   "outputs": [],
   "source": [
    "url = os.environ.get('GRAPHENEDB_URL', 'http://localhost:7474')\n",
    "username = os.environ.get('NEO4J_USERNAME')\n",
    "password = os.environ.get('NEO4J_PASSWORD')"
   ]
  },
  {
   "cell_type": "code",
   "execution_count": 3,
   "metadata": {
    "collapsed": true
   },
   "outputs": [],
   "source": [
    "graph = Graph(url + '/db/data/', username=username, password=password, bolt=False, auth=False)"
   ]
  },
  {
   "cell_type": "code",
   "execution_count": 4,
   "metadata": {
    "collapsed": true
   },
   "outputs": [],
   "source": [
    "class User:\n",
    "    def __init__(self, user_id):\n",
    "        self.user_id = user_id\n",
    "        self.selector = NodeSelector(graph)\n",
    "        self.graph = graph\n",
    "        \n",
    "    def find(self):\n",
    "        user = self.selector.select(\"User\", user_id=self.user_id)\n",
    "        return list(user)\n",
    "    \n",
    "    def get_friends(self):\n",
    "        query = '''\n",
    "        MATCH (u:User {user_id: {id}})-[:FRIEND]->(f:Person)\n",
    "        RETURN f\n",
    "        '''\n",
    "        friends = graph.run(query, user_id=self.user_id)\n",
    "        return list(friends)\n",
    "    \n",
    "    def find_most_discussed_topic(self):\n",
    "        query = '''\n",
    "        MATCH(m:Message {user_id: {id}})\n",
    "        RETURN distinct m.topic, count(*) as occurences ORDER BY occurences DESC\n",
    "        '''\n",
    "        topics = graph.run(query, id=self.user_id)\n",
    "        return list(topics)\n",
    "    \n",
    "    def find_recent_topic(self):\n",
    "        query = '''\n",
    "        MATCH(m:Message {user_id: {id}})\n",
    "        RETURN m.topic, m.last_query as last_query ORDER BY last_query DESC\n",
    "        '''\n",
    "        topics = graph.run(query, id=self.user_id)\n",
    "        return list(topics)\n",
    "\n",
    "    def find_message_by_sentiment(self):\n",
    "        query = '''\n",
    "        MATCH(m:Message {user_id: {id}})\n",
    "        RETURN m, m.sentiment ORDER BY m.sentiment DESC\n",
    "        '''\n",
    "        messages = graph.run(query, id=0)\n",
    "        return list(messages)\n",
    "    \n",
    "    def suggest_friends_by_interest(self):\n",
    "        query = '''\n",
    "        MATCH (p1:Person)-[:LIKES]->(hobby1)<-[:LIKES]-(p2:Person),\n",
    "              (p3:Person)-[:LIKES]->(hobby1)\n",
    "        WHERE p1.person_id = {id}\n",
    "        AND NOT (p2)-[:FRIEND]->(p3)\n",
    "        RETURN p2, p3\n",
    "        '''\n",
    "        friends = graph.run(query, id=0)\n",
    "        return list(friends)\n",
    "    \n",
    "    def find_most_recent_friend(self):\n",
    "        query = '''\n",
    "        MATCH(u:User {user_id: {id}})-[]->(f:Person)\n",
    "        RETURN f, f.first_mention as first_mention ORDER BY first_mention DESC\n",
    "        '''\n",
    "        friends = graph.run(query, id=0)\n",
    "        return list(friends)\n",
    "        \n",
    "    def suggest_friends_by_location(self, city):\n",
    "        query = '''\n",
    "        MATCH (p1:Person), (p2:Person)\n",
    "        WHERE p1.location = p2.location = {location}\n",
    "        AND NOT (p1)-[:FRIEND]->(p2)\n",
    "        AND p1.person_id <> p2.person_id\n",
    "        RETURN p1, p2\n",
    "        '''\n",
    "        friends = graph.run(query, location=city)\n",
    "        return list(friends)\n",
    "    \n",
    "    def find_events(self):\n",
    "        query = '''\n",
    "        MATCH (p1:Person)-[:ATTENDED]->(e:Event)\n",
    "        WHERE NOT p1:User\n",
    "        return p1, e\n",
    "        '''\n",
    "        events = graph.run(query, id=0)\n",
    "        return list(events)"
   ]
  },
  {
   "cell_type": "code",
   "execution_count": 6,
   "metadata": {},
   "outputs": [
    {
     "data": {
      "text/plain": [
       "[('p1': (ee4e6c3:Person {age:22,first_mention:1520363851263,gender:\"F\",location:\"Waterloo\",name:\"Emma\",person_id:3,profession:\"student\"}), 'e': (e58b329:Event {action:\"study\",created_at:1520363860029,event_name:\"school\",last_query:1520363860029,location:\"waterloo\",name:\"school\",time:\"0\"})),\n",
       " ('p1': (fc3c6ef:Person {age:24,first_mention:1520363851263,gender:\"M\",location:\"Waterloo\",name:\"Amine\",person_id:5,profession:\"student\"}), 'e': (e58b329:Event {action:\"study\",created_at:1520363860029,event_name:\"school\",last_query:1520363860029,location:\"waterloo\",name:\"school\",time:\"0\"}))]"
      ]
     },
     "execution_count": 6,
     "metadata": {},
     "output_type": "execute_result"
    }
   ],
   "source": [
    "user = User(0)\n",
    "user.find_events()"
   ]
  },
  {
   "cell_type": "code",
   "execution_count": null,
   "metadata": {},
   "outputs": [],
   "source": [
    "user.find()[0]['location']"
   ]
  },
  {
   "cell_type": "code",
   "execution_count": null,
   "metadata": {
    "collapsed": true
   },
   "outputs": [],
   "source": [
    "def timestamp():\n",
    "    epoch = datetime.utcfromtimestamp(0)\n",
    "    now = datetime.now()\n",
    "    delta = now - epoch\n",
    "    return int(delta.total_seconds())"
   ]
  },
  {
   "cell_type": "code",
   "execution_count": null,
   "metadata": {},
   "outputs": [],
   "source": [
    "query = '''\n",
    "MATCH (n)\n",
    "RETURN n;\n",
    "'''\n",
    "res = list(graph.run(query, id=0))\n",
    "print(len(list(res)))"
   ]
  },
  {
   "cell_type": "code",
   "execution_count": null,
   "metadata": {},
   "outputs": [],
   "source": [
    "query = '''\n",
    "MATCH ()-->()\n",
    "RETURN count(*);\n",
    "'''\n",
    "res = list(graph.run(query, id=0))\n",
    "print(list(res))\n"
   ]
  },
  {
   "cell_type": "code",
   "execution_count": null,
   "metadata": {},
   "outputs": [],
   "source": [
    "user = User(0)\n",
    "user.find()"
   ]
  },
  {
   "cell_type": "code",
   "execution_count": null,
   "metadata": {},
   "outputs": [],
   "source": [
    "user.find_most_recent_friend()[0]['f']['name']"
   ]
  },
  {
   "cell_type": "code",
   "execution_count": null,
   "metadata": {},
   "outputs": [],
   "source": [
    "selector = NodeSelector(graph)\n",
    "res = selector.select(\"User\")"
   ]
  },
  {
   "cell_type": "code",
   "execution_count": null,
   "metadata": {},
   "outputs": [],
   "source": [
    "user.find_most_recent_friend()"
   ]
  },
  {
   "cell_type": "code",
   "execution_count": null,
   "metadata": {},
   "outputs": [],
   "source": [
    "topics"
   ]
  },
  {
   "cell_type": "code",
   "execution_count": null,
   "metadata": {},
   "outputs": [],
   "source": [
    "u = User('Olivier')\n",
    "result = u.find()\n",
    "print(result[0])"
   ]
  }
 ],
 "metadata": {
  "kernelspec": {
   "display_name": "Python [conda env:anaconda3]",
   "language": "python",
   "name": "conda-env-anaconda3-py"
  },
  "language_info": {
   "codemirror_mode": {
    "name": "ipython",
    "version": 3
   },
   "file_extension": ".py",
   "mimetype": "text/x-python",
   "name": "python",
   "nbconvert_exporter": "python",
   "pygments_lexer": "ipython3",
   "version": "3.5.3"
  }
 },
 "nbformat": 4,
 "nbformat_minor": 2
}
