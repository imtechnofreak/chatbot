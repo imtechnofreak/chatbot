{
 "cells": [
  {
   "cell_type": "code",
   "execution_count": 23,
   "metadata": {},
   "outputs": [],
   "source": [
    "import plac\n",
    "import random\n",
    "import pathlib\n",
    "import cytoolz\n",
    "import numpy\n",
    "from keras.models import Sequential, model_from_json\n",
    "from keras.layers import LSTM, Dense, Embedding, Bidirectional\n",
    "from keras.layers import TimeDistributed\n",
    "from keras.optimizers import Adam\n",
    "import thinc.extra.datasets\n",
    "from spacy.compat import pickle\n",
    "import spacy\n",
    "from textblob import TextBlob\n",
    "import numpy as np"
   ]
  },
  {
   "cell_type": "code",
   "execution_count": 2,
   "metadata": {
    "collapsed": true
   },
   "outputs": [],
   "source": [
    "def read_data(data_dir, limit=0):\n",
    "    examples = []\n",
    "    for subdir, label in (('pos', 1), ('neg', 0)):\n",
    "        for filename in (data_dir / subdir).iterdir():\n",
    "            with filename.open() as file_:\n",
    "                text = file_.read()\n",
    "            examples.append((text, label))\n",
    "    random.shuffle(examples)\n",
    "    if limit >= 1:\n",
    "        examples = examples[:limit]\n",
    "    return zip(*examples) # Unzips into two lists"
   ]
  },
  {
   "cell_type": "code",
   "execution_count": 3,
   "metadata": {
    "collapsed": true
   },
   "outputs": [],
   "source": [
    "imdb_data = thinc.extra.datasets.imdb()"
   ]
  },
  {
   "cell_type": "code",
   "execution_count": 25,
   "metadata": {},
   "outputs": [
    {
     "data": {
      "text/plain": [
       "('John Travolta was excellent as \"Michael\" in the movie by the same name. I don\\'t think a better portrayal could have been done. The movie was funny, yet touching. Michael is a very \"human angel\" (If their is such). Andie MacDowell is superb in her role as a reporter, as she goes from disbelief to belief. Bill Hurt and Robert Pastorelli are great as fellow reporters, each bent on proving the hoax of the angel on earth. Each of the supporting cast is wonderful, especially the older woman (I do not know her screen name), who plays Michael\\'s mother! One of the cutest movies I have seen in years... I could watch this movie dozens of times!',\n",
       " 1)"
      ]
     },
     "execution_count": 25,
     "metadata": {},
     "output_type": "execute_result"
    }
   ],
   "source": [
    "(imdb_data[1][1])"
   ]
  },
  {
   "cell_type": "code",
   "execution_count": 26,
   "metadata": {},
   "outputs": [],
   "source": [
    "blobs = TextBlob(imdb_data[1][1][0])"
   ]
  },
  {
   "cell_type": "code",
   "execution_count": 62,
   "metadata": {},
   "outputs": [
    {
     "data": {
      "text/plain": [
       "[-0.5, 0.0, 0.0, 0.0, 0.0]"
      ]
     },
     "execution_count": 62,
     "metadata": {},
     "output_type": "execute_result"
    }
   ],
   "source": [
    "polarity = [sentence.sentiment.polarity for sentence in blobs.sentences]\n",
    "polarity"
   ]
  },
  {
   "cell_type": "code",
   "execution_count": 32,
   "metadata": {},
   "outputs": [],
   "source": [
    "polarity = []\n",
    "for sentence in blobs.sentences:\n",
    "    if sentence.sentiment.polarity:\n",
    "        polarity.append(sentence.sentiment.polarity)"
   ]
  },
  {
   "cell_type": "code",
   "execution_count": 33,
   "metadata": {},
   "outputs": [
    {
     "data": {
      "text/plain": [
       "0.5899305555555555"
      ]
     },
     "execution_count": 33,
     "metadata": {},
     "output_type": "execute_result"
    }
   ],
   "source": [
    "np.mean(polarity)"
   ]
  },
  {
   "cell_type": "code",
   "execution_count": 58,
   "metadata": {
    "collapsed": true
   },
   "outputs": [],
   "source": [
    "def evaluate(data):\n",
    "    print(\"Processing %d...\" % len(data))\n",
    "    correct = 0\n",
    "    i = 0\n",
    "    for text in data:\n",
    "        doc = text[0]\n",
    "        label = text[1]\n",
    "        blobs = TextBlob(doc)\n",
    "        polarity = []\n",
    "        for sentence in blobs.sentences:\n",
    "            polarity.append(sentence.sentiment.polarity)\n",
    "        sentiment = np.mean(polarity)\n",
    "        correct += bool(sentiment >= 0.05) == bool(label)\n",
    "        i += 1\n",
    "    return float(correct) / i"
   ]
  },
  {
   "cell_type": "code",
   "execution_count": 59,
   "metadata": {},
   "outputs": [
    {
     "name": "stdout",
     "output_type": "stream",
     "text": [
      "Processing 25000...\n"
     ]
    },
    {
     "data": {
      "text/plain": [
       "0.75144"
      ]
     },
     "execution_count": 59,
     "metadata": {},
     "output_type": "execute_result"
    }
   ],
   "source": [
    "evaluate(imdb_data[1])"
   ]
  },
  {
   "cell_type": "code",
   "execution_count": 65,
   "metadata": {
    "collapsed": true
   },
   "outputs": [],
   "source": [
    "sentences = [\"Im feeling quite sad today\",\n",
    "            \"I am not feeling well\",\n",
    "            \"i have a brother and a sister\",\n",
    "            \"i work as an engineer at google\",\n",
    "            \"im quite depressed\",\n",
    "            \"i dont like this\",\n",
    "            \"i want to kill myself\",\n",
    "            \"i hate you\"]\n",
    "\n",
    "sentences = '. '.join(sentences)"
   ]
  },
  {
   "cell_type": "code",
   "execution_count": 74,
   "metadata": {},
   "outputs": [
    {
     "name": "stdout",
     "output_type": "stream",
     "text": [
      "Im feeling quite sad today. -0.5\n",
      "I am not feeling well. 0.0\n",
      "i have a brother and a sister. 0.0\n",
      "i work as an engineer at google. 0.0\n",
      "im quite depressed. 0.0\n",
      "i dont like this. 0.0\n",
      "i want to kill myself. 0.0\n",
      "i hate you -0.8\n"
     ]
    }
   ],
   "source": [
    "blobs = TextBlob(sentences)\n",
    "\n",
    "polarity = []\n",
    "for sentence in blobs.sentences:\n",
    "    print(sentence, sentence.sentiment.polarity)\n",
    "    if sentence.sentiment.polarity:\n",
    "        polarity.append(sentence.sentiment.polarity)"
   ]
  }
 ],
 "metadata": {
  "kernelspec": {
   "display_name": "Python [conda env:anaconda3]",
   "language": "python",
   "name": "conda-env-anaconda3-py"
  },
  "language_info": {
   "codemirror_mode": {
    "name": "ipython",
    "version": 3
   },
   "file_extension": ".py",
   "mimetype": "text/x-python",
   "name": "python",
   "nbconvert_exporter": "python",
   "pygments_lexer": "ipython3",
   "version": "3.5.3"
  }
 },
 "nbformat": 4,
 "nbformat_minor": 2
}
