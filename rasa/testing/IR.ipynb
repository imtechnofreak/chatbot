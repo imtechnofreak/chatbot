{
 "cells": [
  {
   "cell_type": "code",
   "execution_count": 84,
   "metadata": {
    "collapsed": true
   },
   "outputs": [],
   "source": [
    "import pandas as pd\n",
    "import numpy as np\n",
    "from sklearn.feature_extraction.text import TfidfVectorizer\n",
    "from sklearn.feature_extraction.text import TfidfTransformer\n",
    "\n",
    "from sklearn.metrics.pairwise import cosine_similarity"
   ]
  },
  {
   "cell_type": "code",
   "execution_count": 85,
   "metadata": {},
   "outputs": [
    {
     "data": {
      "text/html": [
       "<div>\n",
       "<style>\n",
       "    .dataframe thead tr:only-child th {\n",
       "        text-align: right;\n",
       "    }\n",
       "\n",
       "    .dataframe thead th {\n",
       "        text-align: left;\n",
       "    }\n",
       "\n",
       "    .dataframe tbody tr th {\n",
       "        vertical-align: top;\n",
       "    }\n",
       "</style>\n",
       "<table border=\"1\" class=\"dataframe\">\n",
       "  <thead>\n",
       "    <tr style=\"text-align: right;\">\n",
       "      <th></th>\n",
       "      <th>message</th>\n",
       "      <th>response</th>\n",
       "    </tr>\n",
       "  </thead>\n",
       "  <tbody>\n",
       "    <tr>\n",
       "      <th>0</th>\n",
       "      <td>Hello</td>\n",
       "      <td>Hi, how are you?</td>\n",
       "    </tr>\n",
       "    <tr>\n",
       "      <th>1</th>\n",
       "      <td>Hey, how is it going?</td>\n",
       "      <td>Great, how about you?</td>\n",
       "    </tr>\n",
       "    <tr>\n",
       "      <th>2</th>\n",
       "      <td>How are you doing?</td>\n",
       "      <td>Very well, what about you?</td>\n",
       "    </tr>\n",
       "    <tr>\n",
       "      <th>3</th>\n",
       "      <td>What’s up?</td>\n",
       "      <td>Nothing much, what about you?</td>\n",
       "    </tr>\n",
       "    <tr>\n",
       "      <th>4</th>\n",
       "      <td>Hi, nice to meet you</td>\n",
       "      <td>Thank you, nice to meet you too</td>\n",
       "    </tr>\n",
       "    <tr>\n",
       "      <th>5</th>\n",
       "      <td>Who are you?</td>\n",
       "      <td>Who? Who is but a form following the function ...</td>\n",
       "    </tr>\n",
       "    <tr>\n",
       "      <th>6</th>\n",
       "      <td>Can I ask you a question?</td>\n",
       "      <td>Sure, ask away</td>\n",
       "    </tr>\n",
       "    <tr>\n",
       "      <th>7</th>\n",
       "      <td>What are you?</td>\n",
       "      <td>I am a chatbot designed by a graduate student ...</td>\n",
       "    </tr>\n",
       "    <tr>\n",
       "      <th>8</th>\n",
       "      <td>What are your interests</td>\n",
       "      <td>I am interested in all kinds of things. We can...</td>\n",
       "    </tr>\n",
       "    <tr>\n",
       "      <th>9</th>\n",
       "      <td>Where are you?</td>\n",
       "      <td>I am on the internet</td>\n",
       "    </tr>\n",
       "    <tr>\n",
       "      <th>10</th>\n",
       "      <td>Where are you from?</td>\n",
       "      <td>I am from where all software programs are from...</td>\n",
       "    </tr>\n",
       "    <tr>\n",
       "      <th>11</th>\n",
       "      <td>Do you have any brothers</td>\n",
       "      <td>I don't have any brothers. but I have a lot of...</td>\n",
       "    </tr>\n",
       "    <tr>\n",
       "      <th>12</th>\n",
       "      <td>Who is your father?</td>\n",
       "      <td>A human</td>\n",
       "    </tr>\n",
       "    <tr>\n",
       "      <th>13</th>\n",
       "      <td>Who made you?</td>\n",
       "      <td>A graduate student from the University of Wate...</td>\n",
       "    </tr>\n",
       "    <tr>\n",
       "      <th>14</th>\n",
       "      <td>How old are you?</td>\n",
       "      <td>I’m only a few weeks old. I hope to get better...</td>\n",
       "    </tr>\n",
       "  </tbody>\n",
       "</table>\n",
       "</div>"
      ],
      "text/plain": [
       "                      message  \\\n",
       "0                       Hello   \n",
       "1       Hey, how is it going?   \n",
       "2          How are you doing?   \n",
       "3                  What’s up?   \n",
       "4        Hi, nice to meet you   \n",
       "5                Who are you?   \n",
       "6   Can I ask you a question?   \n",
       "7               What are you?   \n",
       "8     What are your interests   \n",
       "9              Where are you?   \n",
       "10        Where are you from?   \n",
       "11   Do you have any brothers   \n",
       "12        Who is your father?   \n",
       "13              Who made you?   \n",
       "14           How old are you?   \n",
       "\n",
       "                                             response  \n",
       "0                                    Hi, how are you?  \n",
       "1                               Great, how about you?  \n",
       "2                          Very well, what about you?  \n",
       "3                       Nothing much, what about you?  \n",
       "4                     Thank you, nice to meet you too  \n",
       "5   Who? Who is but a form following the function ...  \n",
       "6                                      Sure, ask away  \n",
       "7   I am a chatbot designed by a graduate student ...  \n",
       "8   I am interested in all kinds of things. We can...  \n",
       "9                                I am on the internet  \n",
       "10  I am from where all software programs are from...  \n",
       "11  I don't have any brothers. but I have a lot of...  \n",
       "12                                            A human  \n",
       "13  A graduate student from the University of Wate...  \n",
       "14  I’m only a few weeks old. I hope to get better...  "
      ]
     },
     "execution_count": 85,
     "metadata": {},
     "output_type": "execute_result"
    }
   ],
   "source": [
    "data = pd.read_csv('./conversations.csv')\n",
    "data"
   ]
  },
  {
   "cell_type": "code",
   "execution_count": 86,
   "metadata": {
    "collapsed": true
   },
   "outputs": [],
   "source": [
    "class TFIDFPredictor:\n",
    "    def __init__(self):\n",
    "        self.vectorizer = TfidfVectorizer()\n",
    "        self.tfidf_matrix_train = None\n",
    "\n",
    "    def train(self, data):\n",
    "        self.vectorizer.fit(data.message.values)\n",
    "        self.tfidf_matrix_train = self.vectorizer.transform(data.message.values) \n",
    "        \n",
    "    def predict(self, context):\n",
    "        # Convert context and utterances into tfidf vector\n",
    "        vector_context = self.vectorizer.transform([context])\n",
    "        #vector_doc = self.vectorizer.transform(utterances)\n",
    "        vector_doc = self.tfidf_matrix_train\n",
    "        \n",
    "        # The dot product measures the similarity of the resulting vectors\n",
    "        #result = np.dot(vector_doc, vector_context.T).todense()\n",
    "        #result = np.asarray(result).flatten()\n",
    "        result = cosine_similarity(vector_doc, vector_context)\n",
    "        result = np.asarray(result).flatten()\n",
    "        \n",
    "        # Sort by top results and return the indices in descending order\n",
    "        return np.argsort(result, axis=0)[::-1][:5], np.sort(result, axis=0)[::-1][:5]"
   ]
  },
  {
   "cell_type": "code",
   "execution_count": 87,
   "metadata": {},
   "outputs": [
    {
     "name": "stderr",
     "output_type": "stream",
     "text": [
      "/home/olivier/anaconda3/lib/python3.5/site-packages/sklearn/feature_extraction/text.py:1059: FutureWarning: Conversion of the second argument of issubdtype from `float` to `np.floating` is deprecated. In future, it will be treated as `np.float64 == np.dtype(float).type`.\n",
      "  if hasattr(X, 'dtype') and np.issubdtype(X.dtype, np.float):\n"
     ]
    }
   ],
   "source": [
    "tfidf = TFIDFPredictor()\n",
    "tfidf.train(data)"
   ]
  },
  {
   "cell_type": "code",
   "execution_count": 88,
   "metadata": {},
   "outputs": [
    {
     "name": "stdout",
     "output_type": "stream",
     "text": [
      "(0) Who made you? => A graduate student from the University of Waterloo [1.0000]\n",
      "(1) Who are you? => Who? Who is but a form following the function of what [0.5679]\n",
      "(2) Who is your father? => A human [0.2539]\n",
      "(3) What are you? => I am a chatbot designed by a graduate student from the University of Waterloo [0.1415]\n",
      "(4) Where are you? => I am on the internet [0.1326]\n"
     ]
    },
    {
     "name": "stderr",
     "output_type": "stream",
     "text": [
      "/home/olivier/anaconda3/lib/python3.5/site-packages/sklearn/feature_extraction/text.py:1059: FutureWarning: Conversion of the second argument of issubdtype from `float` to `np.floating` is deprecated. In future, it will be treated as `np.float64 == np.dtype(float).type`.\n",
      "  if hasattr(X, 'dtype') and np.issubdtype(X.dtype, np.float):\n"
     ]
    }
   ],
   "source": [
    "y_pred, y_values = tfidf.predict('Who made you?')\n",
    "for idx, (pred, val) in enumerate(zip(y_pred, y_values)):\n",
    "    print(\"(%d) %s => %s [%.4f]\" % (idx, data.iloc[pred].message, data.iloc[pred].response , val))"
   ]
  },
  {
   "cell_type": "code",
   "execution_count": null,
   "metadata": {
    "collapsed": true
   },
   "outputs": [],
   "source": [
    "y = [pred.predict(test_df.message[x], test_df.iloc[x,1:].values) for x in range(len(test_df))]"
   ]
  }
 ],
 "metadata": {
  "kernelspec": {
   "display_name": "Python [conda env:anaconda3]",
   "language": "python",
   "name": "conda-env-anaconda3-py"
  },
  "language_info": {
   "codemirror_mode": {
    "name": "ipython",
    "version": 3
   },
   "file_extension": ".py",
   "mimetype": "text/x-python",
   "name": "python",
   "nbconvert_exporter": "python",
   "pygments_lexer": "ipython3",
   "version": "3.5.3"
  }
 },
 "nbformat": 4,
 "nbformat_minor": 2
}
